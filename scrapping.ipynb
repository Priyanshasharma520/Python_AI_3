{
 "cells": [
  {
   "cell_type": "code",
   "execution_count": 88,
   "metadata": {},
   "outputs": [],
   "source": [
    "import  requests,time\n",
    "from  bs4  import BeautifulSoup\n",
    "import pandas as pd\n",
    "#import matplotlib.pyplot as plt\n",
    "import matplotlib.pyplot as plt\n",
    "import numpy as np"
   ]
  },
  {
   "cell_type": "code",
   "execution_count": 89,
   "metadata": {},
   "outputs": [
    {
     "name": "stdout",
     "output_type": "stream",
     "text": [
      "<Response [200]>\n"
     ]
    }
   ],
   "source": [
    "url=\"https://en.wikipedia.org/wiki/Country\"\n",
    "#  now downloading source code\n",
    "webdata=requests.get(url)\n",
    "print(webdata)  #  th"
   ]
  },
  {
   "cell_type": "code",
   "execution_count": 90,
   "metadata": {},
   "outputs": [
    {
     "name": "stdout",
     "output_type": "stream",
     "text": [
      "{'Country': 10, '-': 1, 'Wikipedia': 3, 'document.documentElement.className=\"client-js\";RLCONF={\"wgBreakFrames\":!1,\"wgSeparatorTransformTable\":[\"\",\"\"],\"wgDigitTransformTable\":[\"\",\"\"],\"wgDefaultDateFormat\":\"dmy\",\"wgMonthNames\":[\"\",\"January\",\"February\",\"March\",\"April\",\"May\",\"June\",\"July\",\"August\",\"September\",\"October\",\"November\",\"December\"],\"wgMonthNamesShort\":[\"\",\"Jan\",\"Feb\",\"Mar\",\"Apr\",\"May\",\"Jun\",\"Jul\",\"Aug\",\"Sep\",\"Oct\",\"Nov\",\"Dec\"],\"wgRequestId\":\"Xg@zJwpAIC4AAC8-qdkAAABI\",\"wgCSPNonce\":!1,\"wgCanonicalNamespace\":\"\",\"wgCanonicalSpecialPageName\":!1,\"wgNamespaceNumber\":0,\"wgPageName\":\"Country\",\"wgTitle\":\"Country\",\"wgCurRevisionId\":933935717,\"wgRevisionId\":933935717,\"wgArticleId\":5165,\"wgIsArticle\":!0,\"wgIsRedirect\":!1,\"wgAction\":\"view\",\"wgUserName\":null,\"wgUserGroups\":[\"*\"],\"wgCategories\":[\"Pages': 1, 'with': 18, 'citations': 2, 'lacking': 2, 'titles\",\"Webarchive': 1, 'template': 2, 'wayback': 2, 'links\",\"Use': 1, 'dmy': 2, 'dates': 2, 'from': 24, 'July': 3, '2019\",\"Articles': 1, 'short': 2, 'description\",\"Wikipedia': 1, 'articles': 2, 'GND': 2, 'identifiers\",\"Countries\",\"Human': 1, 'geography\"],': 1, '\"wgPageContentLanguage\":\"en\",\"wgPageContentModel\":\"wikitext\",\"wgRelevantPageName\":\"Country\",\"wgRelevantArticleId\":5165,\"wgIsProbablyEditable\":!0,\"wgRelevantPageIsProbablyEditable\":!0,\"wgRestrictionEdit\":[],\"wgRestrictionMove\":[],\"wgMediaViewerOnClick\":!0,\"wgMediaViewerEnabledByDefault\":!0,\"wgPopupsReferencePreviews\":!1,\"wgPopupsConflictsWithNavPopupGadget\":!1,\"wgVisualEditor\":{\"pageLanguageCode\":\"en\",\"pageLanguageDir\":\"ltr\",\"pageVariantFallbacks\":\"en\"},\"wgMFDisplayWikibaseDescriptions\":{\"search\":!0,\"nearby\":!0,\"watchlist\":!0,\"tagline\":!1},\"wgWMESchemaEditAttemptStepOversample\":!1,\"wgULSCurrentAutonym\":\"English\",\"wgNoticeProject\":\"wikipedia\",\"wgWikibaseItemId\":\"Q6256\",\"wgCentralAuthMobileDomain\":!1,\"wgEditSubmitButtonLabelPublish\":!0};RLSTATE={\"ext.globalCssJs.user.styles\":\"ready\",\"site.styles\":\"ready\",\"noscript\":\"ready\",\"user.styles\":\"ready\",\"ext.globalCssJs.user\":\"ready\",\"user\":\"ready\",\"user.options\":\"ready\",\"user.tokens\":\"loading\",\"ext.cite.styles\":': 1, '\"ready\",\"mediawiki.legacy.shared\":\"ready\",\"mediawiki.legacy.commonPrint\":\"ready\",\"jquery.makeCollapsible.styles\":\"ready\",\"mediawiki.toc.styles\":\"ready\",\"wikibase.client.init\":\"ready\",\"ext.visualEditor.desktopArticleTarget.noscript\":\"ready\",\"ext.uls.interlanguage\":\"ready\",\"ext.wikimediaBadges\":\"ready\",\"mediawiki.skinning.interface\":\"ready\",\"skins.vector.styles\":\"ready\"};RLPAGEMODULES=[\"ext.cite.ux-enhancements\",\"site\",\"mediawiki.page.startup\",\"mediawiki.page.ready\",\"jquery.makeCollapsible\",\"mediawiki.toc\",\"mediawiki.searchSuggest\",\"ext.gadget.teahouse\",\"ext.gadget.ReferenceTooltips\",\"ext.gadget.watchlist-notice\",\"ext.gadget.DRN-wizard\",\"ext.gadget.charinsert\",\"ext.gadget.refToolbar\",\"ext.gadget.extra-toolbar-buttons\",\"ext.gadget.switcher\",\"ext.centralauth.centralautologin\",\"mmv.head\",\"mmv.bootstrap.autostart\",\"ext.popups\",\"ext.visualEditor.desktopArticleTarget.init\",\"ext.visualEditor.targetLoader\",\"ext.eventLogging\",\"ext.wikimediaEvents\",\"ext.navigationTiming\",\"ext.uls.compactlinks\",': 1, '\"ext.uls.interface\",\"ext.cx.eventlogging.campaigns\",\"ext.quicksurveys.init\",\"ext.centralNotice.geoIP\",\"ext.centralNotice.startUp\",\"skins.vector.js\"];': 1, '(RLQ=window.RLQ||[]).push(function(){mw.loader.implement(\"user.tokens@tffin\",function($,jQuery,require,module){/*@nomin*/mw.user.tokens.set({\"patrolToken\":\"+\\\\\\\\\",\"watchToken\":\"+\\\\\\\\\",\"csrfToken\":\"+\\\\\\\\\"});': 1, '});});': 1, 'From': 1, 'Wikipedia,': 1, 'the': 54, 'free': 1, 'encyclopedia': 1, 'Jump': 2, 'to': 16, 'navigation': 1, 'search': 1, 'For': 2, 'other': 7, 'uses,': 1, 'see': 1, '(disambiguation).': 1, 'Region': 1, 'that': 7, 'is': 13, 'identified': 3, 'as': 17, 'a': 34, 'distinct': 6, 'entity': 2, 'in': 20, 'political': 12, 'geography': 1, '2019': 1, 'map': 1, 'showing': 1, 'countries': 7, 'full': 1, 'recognition': 1, 'and': 26, 'some': 4, 'UN': 2, 'non-member': 1, 'states;': 2, 'disputed': 2, 'territories': 5, 'are': 12, 'not': 3, 'shown': 1, 'A': 4, 'country': 5, 'region': 3, 'geography.': 1, 'may': 4, 'be': 5, 'an': 1, 'independent': 3, 'sovereign': 14, 'state': 5, 'or': 16, 'part': 4, 'of': 45, 'larger': 1, 'state,[1]': 1, 'non-sovereign': 2, 'formerly': 1, 'division,': 1, 'physical': 1, 'territory': 3, 'government,': 1, 'geographic': 1, 'associated': 5, 'sets': 1, 'previously': 1, 'differently': 1, 'people': 1, 'characteristics.': 1, 'Countries': 2, 'can': 6, 'refer': 4, 'both': 1, 'states': 9, 'entities,[2]': 1, 'while': 2, 'times': 3, 'it': 1, 'only': 1, 'states.[3]': 1, 'example,': 1, 'CIA': 2, 'World': 4, 'Factbook': 3, 'uses': 1, 'word': 6, 'its': 2, '\"Country': 1, 'name\"': 1, 'field': 1, '\"a': 2, 'wide': 1, 'variety': 1, 'dependencies,': 1, 'areas': 1, 'special': 1, 'sovereignty,': 1, 'uninhabited': 1, 'islands,': 1, 'entities': 1, 'addition': 1, 'traditional': 1, 'states\".[4][Note': 1, '1]': 1, 'The': 19, 'largest': 1, 'world': 2, 'Russia,': 1, 'most': 2, 'populated': 1, 'China.': 1, 'Contents': 1, '1': 11, 'Etymology': 2, 'usage': 1, '2': 1, 'Sovereignty': 2, 'status': 2, '3': 2, 'See': 4, 'also': 3, '4': 1, 'Notes': 1, '5': 1, 'References': 1, '6': 1, 'Further': 2, 'reading': 1, '7': 2, 'External': 2, 'links': 3, 'usage[edit]': 1, 'comes': 1, 'Old': 2, 'French': 4, 'contrée,': 2, 'which': 5, 'derives': 1, 'Vulgar': 1, 'Latin': 1, '(terra)': 1, 'contrata': 1, '(\"(land)': 1, 'lying': 1, 'opposite\";': 1, '\"(land)': 1, 'spread': 1, 'before\"),': 1, 'derived': 2, 'contra': 1, '(\"against,': 1, 'opposite\").': 1, 'It': 1, 'likely': 1, 'entered': 1, 'English': 4, 'language': 2, 'after': 1, 'Franco-Norman': 1, 'invasion': 1, 'during': 1, '11th': 1, 'century.': 1, 'In': 5, 'has': 2, 'increasingly': 1, 'become': 1, 'divisions,': 1, 'so': 1, 'one': 2, 'sense,': 1, 'indefinite': 1, 'article': 1, '–': 7, 'country\"': 3, 'through': 1, 'misuse': 1, 'subsequent': 1, 'conflation': 1, 'now': 1, 'synonym': 1, 'for': 5, 'state,': 2, 'former': 1, 'sense': 1, '\"district,': 1, 'native': 1, 'land\".[5]': 1, 'Areas': 1, 'much': 1, 'smaller': 2, 'than': 2, 'called': 1, 'by': 7, 'names': 1, 'such': 2, 'West': 1, 'England,': 2, 'Black': 1, '(a': 2, 'heavily': 1, 'industrialized': 1, 'England),': 1, '\"Constable': 1, 'Country\"': 1, 'East': 1, 'Anglia': 1, 'painted': 1, 'John': 2, 'Constable),': 1, '\"big': 1, '(used': 2, 'various': 1, 'contexts': 1, 'American': 1, 'West),': 1, '\"coal': 1, 'parts': 1, 'US': 1, 'elsewhere)': 1, 'many': 3, 'terms.[6]': 1, 'equivalent': 1, 'terms': 2, 'Romance': 1, 'languages': 1, '(pays': 1, 'variants)': 1, 'have': 4, 'carried': 1, 'process': 1, 'being': 1, 'far': 1, '\"country\",': 1, 'instead': 1, 'from,': 1, 'pagus,': 1, 'designated': 1, 'controlled': 1, 'medieval': 1, 'count,': 1, 'title': 1, 'originally': 1, 'granted': 1, 'Roman': 1, 'Church.': 1, 'European': 1, 'words': 1, 'used': 3, 'sub-divisions': 1, 'national': 1, 'territory,': 1, 'German': 1, 'Bundesländer,': 1, 'well': 1, 'less': 1, 'formal': 1, 'term': 3, 'state.': 2, 'France': 1, 'very': 1, '\"pays\"': 2, 'officially': 1, 'recognized': 1, 'at': 8, 'level,': 1, 'either': 1, 'natural': 1, 'regions,': 2, 'like': 2, 'Pays': 2, 'de': 2, 'Bray,': 1, 'reflect': 1, 'old': 1, 'economic': 1, 'entities,': 1, 'la': 1, 'Loire.': 1, 'version': 2, '\"country\"': 2, 'found': 1, 'modern': 2, 'based': 1, 'on': 11, 'cuntrée': 1, 'French,[6]': 1, 'similarly': 1, 'define': 1, 'non-state': 1, 'but': 3, 'describe': 1, 'particular': 1, 'cases.': 1, 'Italian': 1, 'contrada': 1, 'meaning': 2, 'varying': 1, 'locally,': 1, 'usually': 2, 'ward': 1, 'similar': 1, 'small': 1, 'division': 2, 'town,': 1, 'village': 1, 'hamlet': 1, 'countryside.': 1, 'status[edit]': 1, 'also:': 1, 'List': 4, 'There': 1, 'no': 1, 'universal': 1, 'agreement': 1, 'number': 2, '\"countries\"': 1, 'since': 2, 'sovereignty': 1, 'status.': 1, 'By': 2, 'application': 1, 'declarative': 1, 'theory': 2, 'statehood': 1, 'constitutive': 1, 'statehood,': 1, 'there': 1, '206': 1, '193': 1, 'members': 1, 'United': 4, 'Nations,': 1, 'two': 1, 'observer': 2, '(the': 1, 'Holy': 1, 'Palestine),': 1, '11': 1, 'others': 1, 'neither': 1, 'member': 1, 'nor': 1, 'UN.': 1, 'latest': 1, 'proclaimed': 1, 'South': 2, 'Sudan': 1, '2011.': 1, 'degree': 1, 'autonomy': 1, 'varies': 1, 'widely.': 1, 'Some': 1, 'possessions': 1, 'states,': 1, 'several': 1, 'overseas': 1, '(such': 1, 'Polynesia': 1, 'British': 2, 'Virgin': 1, 'Islands),': 1, 'citizenry': 1, 'identical': 1, 'their': 1, 'own.': 1, 'Such': 1, 'territories,': 2, 'exception': 1, 'dependent': 3, 'listed': 1, 'together': 1, 'lists': 1, 'countries,': 1, 'nonetheless': 1, 'treated': 1, 'separate': 3, '\"country': 1, 'origin\"': 1, 'international': 1, 'trade,': 1, 'Hong': 3, 'Kong': 1, 'is.[7][8][9]': 1, 'few': 1, 'consist': 1, 'union': 1, 'polities': 1, 'considered': 2, 'countries:': 3, 'Kingdom': 3, 'Netherlands': 1, 'includes': 3, 'four': 1, 'Netherlands,': 1, 'Aruba,': 1, 'Curaçao,': 1, 'Sint': 1, 'Maarten.': 1, 'Scotland,': 1, 'Wales': 1, 'Northern': 1, 'Ireland,': 1, 'though': 1, 'latter': 1, 'sometimes': 2, 'province': 1, 'rather': 1, 'country.': 1, 'Crown': 2, 'Dependencies,': 1, 'UK': 1, 'itself,': 1, 'referred': 1, 'countries.': 1, 'Denmark': 1, 'three': 1, 'Denmark,': 1, 'Faroe': 1, 'Islands': 2, 'Greenland.': 1, 'also[edit]': 1, 'portal': 2, 'Geography': 1, 'City': 1, 'network': 1, 'Constituent': 1, 'continent': 1, 'Lists': 1, 'Micronation': 1, 'Notes[edit]': 1, '^': 18, 'General': 1, 'information': 1, 'statistical': 1, 'publications': 1, 'adopt': 1, 'wider': 1, 'definition': 1, 'purposes': 1, 'illustration': 1, 'comparison': 1, 'include:[10][11][12][13][14][15][16][17]': 1, 'References[edit]': 1, 'Jones,': 1, 'J.': 1, '(1964).': 1, 'What': 2, 'Makes': 1, 'Country?': 1, 'Human': 1, 'Events,': 1, '24(31),': 1, '14.': 1, 'Tjhe': 1, 'Kwet': 1, 'Koe': 1, 'v': 1, 'Minister': 1, 'Immigration': 1, '&': 2, 'Ethnic': 1, 'Affairs': 1, '[1997]': 1, 'FCA': 1, '912': 1, '(8': 1, 'September': 1, '1997),': 1, 'Federal': 1, 'Court': 1, '(Australia).': 1, 'Rosenberg,': 1, 'Matt.': 1, '\"Geography:': 1, 'Country,': 1, 'State,': 1, 'Nation\".': 1, 'Retrieved': 10, '12': 6, 'November': 7, '2008..mw-parser-output': 1, 'cite.citation{font-style:inherit}.mw-parser-output': 1, '.citation': 5, 'q{quotes:\"\\\\\"\"\"\\\\\"\"\"\\'\"\"\\'\"}.mw-parser-output': 1, '.cs1-lock-free': 1, 'a{background:url(\"//upload.wikimedia.org/wikipedia/commons/thumb/6/65/Lock-green.svg/9px-Lock-green.svg.png\")no-repeat;background-position:right': 1, '.1em': 4, 'center}.mw-parser-output': 4, '.cs1-lock-limited': 1, 'a,.mw-parser-output': 1, '.cs1-lock-registration': 1, 'a{background:url(\"//upload.wikimedia.org/wikipedia/commons/thumb/d/d6/Lock-gray-alt-2.svg/9px-Lock-gray-alt-2.svg.png\")no-repeat;background-position:right': 1, '.cs1-lock-subscription': 1, 'a{background:url(\"//upload.wikimedia.org/wikipedia/commons/thumb/a/aa/Lock-red-alt-2.svg/9px-Lock-red-alt-2.svg.png\")no-repeat;background-position:right': 1, '.cs1-subscription,.mw-parser-output': 2, '.cs1-registration{color:#555}.mw-parser-output': 1, '.cs1-subscription': 1, 'span,.mw-parser-output': 1, '.cs1-registration': 1, 'span{border-bottom:1px': 1, 'dotted;cursor:help}.mw-parser-output': 1, '.cs1-ws-icon': 1, 'a{background:url(\"//upload.wikimedia.org/wikipedia/commons/thumb/4/4c/Wikisource-logo.svg/12px-Wikisource-logo.svg.png\")no-repeat;background-position:right': 1, 'code.cs1-code{color:inherit;background:inherit;border:inherit;padding:inherit}.mw-parser-output': 1, '.cs1-hidden-error{display:none;font-size:100%}.mw-parser-output': 1, '.cs1-visible-error{font-size:100%}.mw-parser-output': 1, '.cs1-maint{display:none;color:#33aa33;margin-left:0.3em}.mw-parser-output': 1, '.cs1-registration,.mw-parser-output': 1, '.cs1-format{font-size:95%}.mw-parser-output': 1, '.cs1-kern-left,.mw-parser-output': 1, '.cs1-kern-wl-left{padding-left:0.2em}.mw-parser-output': 1, '.cs1-kern-right,.mw-parser-output': 1, '.cs1-kern-wl-right{padding-right:0.2em}': 1, '\"The': 2, 'Factbook\".': 1, 'CIA.': 1, '16': 1, 'February': 1, '2012.': 1, 'OED,': 1, 'b': 1, 'Simpson,': 1, 'Edmund': 1, 'Weiner': 1, '(ed.).': 1, 'Oxford': 2, 'Dictionary': 1, '(1971': 1, 'compact': 1, 'ed.).': 1, 'Oxford,': 1, 'England:': 1, 'University': 2, 'Press.': 1, 'ISBN': 1, '978-0-19-861186-8.': 1, 'Missing': 1, 'empty': 1, '|title=': 1, '(help)': 1, '\"Made': 1, 'Colony\".': 1, 'Thuy-Tien': 1, 'Crampton.': 1, 'Archived': 7, 'original': 6, 'April': 2, '2014.': 2, '\"Matchbox': 1, 'label,': 1, 'made': 1, 'Kong\".': 1, 'delcampe.net.': 1, '\"Carrhart': 1, 'Made': 1, 'Kong?\".': 1, 'ContractorTalk.': 1, '\"Greenland': 1, 'Information\".': 1, 'Countryreports.org.': 1, '21': 1, 'December': 2, '2007.': 1, '28': 1, 'May': 1, '2008.': 9, 'Rank': 1, 'Order': 1, 'Exports\".': 1, 'Central': 1, 'Intelligence': 3, 'Agency.': 1, '\"Index': 2, 'Economic': 3, 'Freedom\".': 1, 'Heritage': 3, 'Foundation.': 3, 'Freedom': 1, 'Top': 1, '10': 1, 'Countries\".': 1, '24': 1, 'January': 2, '\"Asia-Pacific': 1, '(Region': 1, 'A)': 1, 'Information\"': 1, '(PDF).': 2, '(PDF)': 2, '14': 1, '\"Subjective': 1, 'well-being': 1, '97': 1, 'countries\"': 1, 'Michigan.': 1, '19': 1, 'August': 1, \"Mercer's\": 1, '2012': 1, 'Cost': 1, 'Living': 1, 'Survey': 1, 'city': 1, 'rankings': 1, '25': 1, '2008': 1, 'Wayback': 1, 'Machine.': 1, 'Mercer.com': 1, '(18': 1, '2008).': 1, '2013-07-12.': 1, 'EIU': 1, 'Digital': 1, 'Solutions.': 1, '\"Country,': 1, 'industry': 1, 'risk': 1, 'analysis': 1, 'Economist': 3, 'Unit': 1, 'Unit\".': 1, 'eiu.com.': 1, 'Hanke,': 1, 'Steve': 1, 'H.': 1, '(May': 1, '2014).': 1, '\"Measuring': 1, 'Misery': 1, 'around': 1, 'World\".': 1, 'Cato': 1, 'Institute.': 1, 'reading[edit]': 1, 'Defining': 1, 'what': 1, 'makes': 1, 'links[edit]': 1, 'Countryat': 1, \"Wikipedia's\": 1, 'sister': 1, 'projectsDefinitions': 1, 'Wiktionary': 1, 'Media': 1, 'Wikimedia': 4, 'Commons': 2, 'News': 1, 'Wikinews': 1, 'Quotations': 1, 'Wikiquote': 1, 'Texts': 1, 'Wikisource': 1, 'Textbooks': 1, 'Wikibooks': 1, 'Resources': 1, 'Wikiversity': 1, 'Data': 1, 'Wikidata': 1, 'Studies': 1, 'States': 1, 'Library': 1, 'Congress': 1, 'Foreign': 1, 'Information': 1, 'Territory': 1, 'Guides': 1, 'GovPubs': 1, 'UCB': 1, 'Libraries': 1, 'Nations': 1, 'statistics': 1, 'vteList': 1, 'continentContinents': 1, 'Africa': 1, 'Antarctica': 1, 'Asia': 1, 'Europe': 1, 'North': 1, 'America': 2, 'Oceania': 1, 'Supercontinents': 1, 'Americas': 1, 'Eurasia': 1, 'island': 1, 'Authority': 1, 'control': 1, 'GND:': 1, '4056618-3': 1, '\"https://en.wikipedia.org/w/index.php?title=Country&oldid=933935717\"': 1, 'Categories:': 1, 'CountriesHuman': 1, 'geographyHidden': 1, 'categories:': 1, 'Pages': 1, 'titlesWebarchive': 1, 'linksUse': 1, '2019Articles': 1, 'descriptionWikipedia': 1, 'identifiers': 1, 'Navigation': 2, 'menu': 1, 'Personal': 1, 'tools': 1, 'Not': 1, 'logged': 1, 'inTalkContributionsCreate': 1, 'accountLog': 1, 'Namespaces': 1, 'ArticleTalk': 1, 'Variants': 1, 'Views': 1, 'ReadEditView': 1, 'history': 1, 'More': 1, 'Search': 1, 'Main': 1, 'pageContentsFeatured': 1, 'contentCurrent': 1, 'eventsRandom': 1, 'articleDonate': 1, 'WikipediaWikipedia': 1, 'store': 1, 'Interaction': 1, 'HelpAbout': 1, 'WikipediaCommunity': 1, 'portalRecent': 1, 'changesContact': 1, 'page': 3, 'Tools': 1, 'hereRelated': 1, 'changesUpload': 1, 'fileSpecial': 1, 'pagesPermanent': 1, 'linkPage': 1, 'informationWikidata': 1, 'itemCite': 1, 'this': 2, 'projects': 1, 'CommonsWikiquote': 1, 'Print/export': 1, 'Create': 1, 'bookDownload': 1, 'PDFPrintable': 1, 'Languages': 1, 'AfrikaansالعربيةAragonésঅসমীয়াAsturianuAymar': 1, 'aruAzərbaycancaتۆرکجهবাংলাBân-lâm-gúБашҡортсаБеларускаяБеларуская': 1, '(тарашкевіца)\\u200eभोजपुरीBislamaБългарскиBosanskiBrezhonegCatalàCebuanoČeštinaCorsuCymraegDanskडोटेलीཇོང་ཁEestiΕλληνικάEspañolEsperantoEstremeñuEuskaraفارسیFiji': 1, 'HindiFrançaisFryskGaelgGàidhligGalegoГӀалгӀай贛語ગુજરાતી客家語/Hak-kâ-ngî한국어HausaHawaiʻiՀայերենहिन्दीIdoIlokanoBahasa': 1, 'IndonesiaInterlinguaItalianoעבריתქართულიҚазақшаKiswahiliKreyòl': 1, 'ayisyenKurdîКыргызчаLadinoລາວلۊری': 1, 'شومالیLatinaLatviešuЛезгиLietuviųLingálaLa': 1, '.lojban.MagyarMalagasyMaltiमराठीმარგალურიBahasa': 1, 'MelayuMinangkabauMìng-dĕ̤ng-ngṳ̄Mirandésမြန်မာဘာသာNa': 1, 'Vosa': 1, 'VakavitiNederlandsनेपालीनेपाल': 1, 'भाषा日本語Norfuk': 1, '/': 4, 'PitkernNorsk': 1, 'nynorskOccitanОлык': 1, 'марийOʻzbekcha/ўзбекчаਪੰਜਾਬੀپنجابیپښتوPatoisភាសាខ្មែរPlattdüütschPortuguêsRomânăRomani': 1, 'čhibРусскийСаха': 1, 'тылаᱥᱟᱱᱛᱟᱲᱤScotsSesothoSesotho': 1, 'sa': 1, 'LeboaසිංහලSimple': 1, 'EnglishسنڌيSlovenščinaSoomaaligaکوردیSranantongoСрпски': 1, 'srpskiSrpskohrvatski': 1, 'српскохрватскиSundaSuomiSvenskaTagalogதமிழ்Татарча/tatarçaతెలుగుไทยТоҷикӣTürkçeУдмуртУкраїнськаاردوئۇيغۇرچە': 1, 'UyghurcheVahcuenghTiếng': 1, 'ViệtVolapükVõroWinaray吴语ייִדישYorùbá粵語中文Kriyòl': 1, 'gwiyannen': 1, 'Edit': 1, 'This': 1, 'was': 1, 'last': 1, 'edited': 1, '2020,': 1, '20:44': 1, '(UTC).': 1, 'Text': 1, 'available': 1, 'under': 1, 'Creative': 1, 'Attribution-ShareAlike': 1, 'License;': 1, 'additional': 1, 'apply.': 1, 'using': 1, 'site,': 1, 'you': 1, 'agree': 1, 'Terms': 1, 'Use': 1, 'Privacy': 2, 'Policy.': 1, 'Wikipedia®': 1, 'registered': 1, 'trademark': 1, 'Foundation,': 2, 'Inc.,': 1, 'non-profit': 1, 'organization.': 1, 'policy': 1, 'About': 1, 'Disclaimers': 1, 'Contact': 1, 'Developers': 1, 'Statistics': 1, 'Cookie': 1, 'statement': 1, 'Mobile': 1, 'view': 1, '(RLQ=window.RLQ||[]).push(function(){mw.config.set({\"wgPageParseReport\":{\"limitreport\":{\"cputime\":\"0.384\",\"walltime\":\"0.535\",\"ppvisitednodes\":{\"value\":1282,\"limit\":1000000},\"ppgeneratednodes\":{\"value\":0,\"limit\":1500000},\"postexpandincludesize\":{\"value\":44762,\"limit\":2097152},\"templateargumentsize\":{\"value\":968,\"limit\":2097152},\"expansiondepth\":{\"value\":14,\"limit\":40},\"expensivefunctioncount\":{\"value\":4,\"limit\":500},\"unstrip-depth\":{\"value\":1,\"limit\":20},\"unstrip-size\":{\"value\":42741,\"limit\":5000000},\"entityaccesscount\":{\"value\":1,\"limit\":400},\"timingprofile\":[\"100.00%': 1, '437.882': 1, '-total\",\"': 1, '43.45%': 1, '190.268': 1, 'Template:Reflist\",\"': 1, '29.71%': 1, '130.104': 1, '13': 1, 'Template:Cite_web\",\"': 1, '21.90%': 1, '95.900': 1, 'Template:Authority_control\",\"': 1, '6.97%': 1, '30.528': 1, 'Template:Use_dmy_dates\",\"': 1, '6.54%': 1, '28.653': 1, 'Template:Short_description\",\"': 1, '5.90%': 1, '25.855': 1, 'Template:Other_uses\",\"': 1, '5.14%': 1, '22.493': 1, 'Template:Lists_of_countries_and_territories_by_continent\",\"': 1, '4.55%': 1, '19.919': 1, 'Template:Pagetype\",\"': 1, '4.51%': 1, '19.744': 1, 'Template:Cite_AustLII\"]},\"scribunto\":{\"limitreport-timeusage\":{\"value\":\"0.186\",\"limit\":\"10.000\"},\"limitreport-memusage\":{\"value\":6124982,\"limit\":52428800}},\"cachereport\":{\"origin\":\"mw1288\",\"timestamp\":\"20200103204423\",\"ttl\":2592000,\"transientcontent\":false}}});});': 1, '{\"@context\":\"https:\\\\/\\\\/schema.org\",\"@type\":\"Article\",\"name\":\"Country\",\"url\":\"https:\\\\/\\\\/en.wikipedia.org\\\\/wiki\\\\/Country\",\"sameAs\":\"http:\\\\/\\\\/www.wikidata.org\\\\/entity\\\\/Q6256\",\"mainEntity\":\"http:\\\\/\\\\/www.wikidata.org\\\\/entity\\\\/Q6256\",\"author\":{\"@type\":\"Organization\",\"name\":\"Contributors': 1, 'projects\"},\"publisher\":{\"@type\":\"Organization\",\"name\":\"Wikimedia': 1, 'Inc.\",\"logo\":{\"@type\":\"ImageObject\",\"url\":\"https:\\\\/\\\\/www.wikimedia.org\\\\/static\\\\/images\\\\/wmf-hor-googpub.png\"}},\"datePublished\":\"2001-04-01T22:48:08Z\",\"dateModified\":\"2020-01-03T20:44:25Z\",\"image\":\"https:\\\\/\\\\/upload.wikimedia.org\\\\/wikipedia\\\\/commons\\\\/0\\\\/0c\\\\/Political_Map_of_the_World%2C_June_2019.pdf\",\"headline\":\"distinct': 1, 'geography;': 1, 'broad': 1, 'include': 1, 'divisions': 1, 'regions': 1, 'characteristics\"}': 1, '(RLQ=window.RLQ||[]).push(function(){mw.config.set({\"wgBackendResponseTime\":128,\"wgHostname\":\"mw1325\"});});': 1}\n"
     ]
    }
   ],
   "source": [
    "time.sleep(2)\n",
    "myhtmldata=webdata.text\n",
    "# now we can apply  BS4\n",
    "souped=BeautifulSoup(myhtmldata,'html5lib')\n",
    "#print(souped.findAll('a'))\n",
    "#print(souped.find(''))\n",
    "\n",
    "dir={}\n",
    "con=souped.get_text()\n",
    "for i in con.split():\n",
    "    #print(i)\n",
    "    if i not in dir:\n",
    "    \n",
    "        dir[i]=1\n",
    "    else:\n",
    "        dir[i]=dir[i]+1\n",
    "print(dir)\n",
    "    #print(souped.get_text())\n",
    "#print(myhtmldata)\n",
    "data={\"words\": list(dir.keys()),\"count\":list(dir.values())}\n",
    "\n"
   ]
  },
  {
   "cell_type": "code",
   "execution_count": 91,
   "metadata": {},
   "outputs": [],
   "source": [
    "data_frame=pd.DataFrame.from_dict(data)"
   ]
  },
  {
   "cell_type": "code",
   "execution_count": 92,
   "metadata": {},
   "outputs": [
    {
     "data": {
      "text/html": [
       "<div>\n",
       "<style scoped>\n",
       "    .dataframe tbody tr th:only-of-type {\n",
       "        vertical-align: middle;\n",
       "    }\n",
       "\n",
       "    .dataframe tbody tr th {\n",
       "        vertical-align: top;\n",
       "    }\n",
       "\n",
       "    .dataframe thead th {\n",
       "        text-align: right;\n",
       "    }\n",
       "</style>\n",
       "<table border=\"1\" class=\"dataframe\">\n",
       "  <thead>\n",
       "    <tr style=\"text-align: right;\">\n",
       "      <th></th>\n",
       "      <th>words</th>\n",
       "      <th>count</th>\n",
       "    </tr>\n",
       "  </thead>\n",
       "  <tbody>\n",
       "    <tr>\n",
       "      <th>0</th>\n",
       "      <td>Country</td>\n",
       "      <td>10</td>\n",
       "    </tr>\n",
       "    <tr>\n",
       "      <th>1</th>\n",
       "      <td>-</td>\n",
       "      <td>1</td>\n",
       "    </tr>\n",
       "    <tr>\n",
       "      <th>2</th>\n",
       "      <td>Wikipedia</td>\n",
       "      <td>3</td>\n",
       "    </tr>\n",
       "    <tr>\n",
       "      <th>3</th>\n",
       "      <td>document.documentElement.className=\"client-js\"...</td>\n",
       "      <td>1</td>\n",
       "    </tr>\n",
       "    <tr>\n",
       "      <th>4</th>\n",
       "      <td>with</td>\n",
       "      <td>18</td>\n",
       "    </tr>\n",
       "    <tr>\n",
       "      <th>...</th>\n",
       "      <td>...</td>\n",
       "      <td>...</td>\n",
       "    </tr>\n",
       "    <tr>\n",
       "      <th>877</th>\n",
       "      <td>include</td>\n",
       "      <td>1</td>\n",
       "    </tr>\n",
       "    <tr>\n",
       "      <th>878</th>\n",
       "      <td>divisions</td>\n",
       "      <td>1</td>\n",
       "    </tr>\n",
       "    <tr>\n",
       "      <th>879</th>\n",
       "      <td>regions</td>\n",
       "      <td>1</td>\n",
       "    </tr>\n",
       "    <tr>\n",
       "      <th>880</th>\n",
       "      <td>characteristics\"}</td>\n",
       "      <td>1</td>\n",
       "    </tr>\n",
       "    <tr>\n",
       "      <th>881</th>\n",
       "      <td>(RLQ=window.RLQ||[]).push(function(){mw.config...</td>\n",
       "      <td>1</td>\n",
       "    </tr>\n",
       "  </tbody>\n",
       "</table>\n",
       "<p>882 rows × 2 columns</p>\n",
       "</div>"
      ],
      "text/plain": [
       "                                                 words  count\n",
       "0                                              Country     10\n",
       "1                                                    -      1\n",
       "2                                            Wikipedia      3\n",
       "3    document.documentElement.className=\"client-js\"...      1\n",
       "4                                                 with     18\n",
       "..                                                 ...    ...\n",
       "877                                            include      1\n",
       "878                                          divisions      1\n",
       "879                                            regions      1\n",
       "880                                  characteristics\"}      1\n",
       "881  (RLQ=window.RLQ||[]).push(function(){mw.config...      1\n",
       "\n",
       "[882 rows x 2 columns]"
      ]
     },
     "execution_count": 92,
     "metadata": {},
     "output_type": "execute_result"
    }
   ],
   "source": [
    "data_frame"
   ]
  },
  {
   "cell_type": "code",
   "execution_count": 93,
   "metadata": {},
   "outputs": [
    {
     "data": {
      "text/plain": [
       "array([['the', 54],\n",
       "       ['of', 45],\n",
       "       ['a', 34],\n",
       "       ['and', 26],\n",
       "       ['from', 24],\n",
       "       ['in', 20],\n",
       "       ['The', 19],\n",
       "       ['with', 18],\n",
       "       ['^', 18],\n",
       "       ['as', 17],\n",
       "       ['to', 16]], dtype=object)"
      ]
     },
     "execution_count": 93,
     "metadata": {},
     "output_type": "execute_result"
    }
   ],
   "source": [
    "\n",
    "Top_data=data_frame.nlargest(11,'count')\n",
    "newdata=Top_data.values\n",
    "#newdata[:,1]\n",
    "#newdata[:,1]\n",
    "newdata\n",
    "#Top_data"
   ]
  },
  {
   "cell_type": "code",
   "execution_count": 94,
   "metadata": {},
   "outputs": [
    {
     "data": {
      "text/plain": [
       "[]"
      ]
     },
     "execution_count": 94,
     "metadata": {},
     "output_type": "execute_result"
    },
    {
     "data": {
      "image/png": "[encoded data removed]",
      "text/plain": [
       "<Figure size 432x288 with 1 Axes>"
      ]
     },
     "metadata": {
      "needs_background": "light"
     },
     "output_type": "display_data"
    }
   ],
   "source": [
    "\n",
    "plt.xlabel(\"words\")\n",
    "plt.ylabel(\"count\")\n",
    "plt.bar(newdata[:,0],newdata[:,1],label=\"word-count plot\",color=\"r\")\n",
    "plt.legend()\n",
    "plt.plot()"
   ]
  },
  {
   "cell_type": "code",
   "execution_count": 95,
   "metadata": {},
   "outputs": [
    {
     "data": {
      "text/plain": [
       "['yes', 'No', 'yes', 'yes', 'No', 'yes', 'No', 'No', 'yes', 'No', 'No']"
      ]
     },
     "execution_count": 95,
     "metadata": {},
     "output_type": "execute_result"
    }
   ],
   "source": [
    "import random\n",
    "c=[\"yes\",\"No\"]\n",
    "x=[]\n",
    "for i in range(0,11):\n",
    "    y=random.choice(c)\n",
    "    x.append(y)\n",
    "x"
   ]
  },
  {
   "cell_type": "code",
   "execution_count": 96,
   "metadata": {},
   "outputs": [],
   "source": [
    "#x=[\"yes\",\"No\",\"yes\",\"yes\",]\n",
    "Top_data.insert(2,\"Labels\",x)\n"
   ]
  },
  {
   "cell_type": "code",
   "execution_count": 97,
   "metadata": {},
   "outputs": [
    {
     "data": {
      "text/html": [
       "<div>\n",
       "<style scoped>\n",
       "    .dataframe tbody tr th:only-of-type {\n",
       "        vertical-align: middle;\n",
       "    }\n",
       "\n",
       "    .dataframe tbody tr th {\n",
       "        vertical-align: top;\n",
       "    }\n",
       "\n",
       "    .dataframe thead th {\n",
       "        text-align: right;\n",
       "    }\n",
       "</style>\n",
       "<table border=\"1\" class=\"dataframe\">\n",
       "  <thead>\n",
       "    <tr style=\"text-align: right;\">\n",
       "      <th></th>\n",
       "      <th>words</th>\n",
       "      <th>count</th>\n",
       "      <th>Labels</th>\n",
       "    </tr>\n",
       "  </thead>\n",
       "  <tbody>\n",
       "    <tr>\n",
       "      <th>29</th>\n",
       "      <td>the</td>\n",
       "      <td>54</td>\n",
       "      <td>yes</td>\n",
       "    </tr>\n",
       "    <tr>\n",
       "      <th>80</th>\n",
       "      <td>of</td>\n",
       "      <td>45</td>\n",
       "      <td>No</td>\n",
       "    </tr>\n",
       "    <tr>\n",
       "      <th>46</th>\n",
       "      <td>a</td>\n",
       "      <td>34</td>\n",
       "      <td>yes</td>\n",
       "    </tr>\n",
       "    <tr>\n",
       "      <th>58</th>\n",
       "      <td>and</td>\n",
       "      <td>26</td>\n",
       "      <td>yes</td>\n",
       "    </tr>\n",
       "    <tr>\n",
       "      <th>13</th>\n",
       "      <td>from</td>\n",
       "      <td>24</td>\n",
       "      <td>No</td>\n",
       "    </tr>\n",
       "    <tr>\n",
       "      <th>49</th>\n",
       "      <td>in</td>\n",
       "      <td>20</td>\n",
       "      <td>yes</td>\n",
       "    </tr>\n",
       "    <tr>\n",
       "      <th>131</th>\n",
       "      <td>The</td>\n",
       "      <td>19</td>\n",
       "      <td>No</td>\n",
       "    </tr>\n",
       "    <tr>\n",
       "      <th>4</th>\n",
       "      <td>with</td>\n",
       "      <td>18</td>\n",
       "      <td>No</td>\n",
       "    </tr>\n",
       "    <tr>\n",
       "      <th>459</th>\n",
       "      <td>^</td>\n",
       "      <td>18</td>\n",
       "      <td>yes</td>\n",
       "    </tr>\n",
       "    <tr>\n",
       "      <th>45</th>\n",
       "      <td>as</td>\n",
       "      <td>17</td>\n",
       "      <td>No</td>\n",
       "    </tr>\n",
       "    <tr>\n",
       "      <th>33</th>\n",
       "      <td>to</td>\n",
       "      <td>16</td>\n",
       "      <td>No</td>\n",
       "    </tr>\n",
       "  </tbody>\n",
       "</table>\n",
       "</div>"
      ],
      "text/plain": [
       "    words  count Labels\n",
       "29    the     54    yes\n",
       "80     of     45     No\n",
       "46      a     34    yes\n",
       "58    and     26    yes\n",
       "13   from     24     No\n",
       "49     in     20    yes\n",
       "131   The     19     No\n",
       "4    with     18     No\n",
       "459     ^     18    yes\n",
       "45     as     17     No\n",
       "33     to     16     No"
      ]
     },
     "execution_count": 97,
     "metadata": {},
     "output_type": "execute_result"
    }
   ],
   "source": [
    "Top_data"
   ]
  },
  {
   "cell_type": "code",
   "execution_count": 101,
   "metadata": {},
   "outputs": [
    {
     "name": "stdout",
     "output_type": "stream",
     "text": [
      "29     yes\n",
      "80      No\n",
      "46     yes\n",
      "58     yes\n",
      "13      No\n",
      "49     yes\n",
      "131     No\n",
      "4       No\n",
      "459    yes\n",
      "45      No\n",
      "33      No\n",
      "Name: Labels, dtype: object\n"
     ]
    },
    {
     "ename": "ValueError",
     "evalue": "could not convert string to float: 'the'",
     "output_type": "error",
     "traceback": [
      "\u001b[0;31m---------------------------------------------------------------------------\u001b[0m",
      "\u001b[0;31mValueError\u001b[0m                                Traceback (most recent call last)",
      "\u001b[0;32m<ipython-input-101-85f2a3d8118a>\u001b[0m in \u001b[0;36m<module>\u001b[0;34m\u001b[0m\n\u001b[1;32m      4\u001b[0m \u001b[0mprint\u001b[0m\u001b[0;34m(\u001b[0m\u001b[0mlables\u001b[0m\u001b[0;34m)\u001b[0m\u001b[0;34m\u001b[0m\u001b[0;34m\u001b[0m\u001b[0m\n\u001b[1;32m      5\u001b[0m \u001b[0mdesclf\u001b[0m\u001b[0;34m=\u001b[0m\u001b[0mDecisionTreeClassifier\u001b[0m\u001b[0;34m(\u001b[0m\u001b[0;34m)\u001b[0m\u001b[0;34m\u001b[0m\u001b[0;34m\u001b[0m\u001b[0m\n\u001b[0;32m----> 6\u001b[0;31m \u001b[0mtraineddec\u001b[0m\u001b[0;34m=\u001b[0m\u001b[0mdesclf\u001b[0m\u001b[0;34m.\u001b[0m\u001b[0mfit\u001b[0m\u001b[0;34m(\u001b[0m\u001b[0mfeatures\u001b[0m\u001b[0;34m,\u001b[0m\u001b[0mlables\u001b[0m\u001b[0;34m)\u001b[0m\u001b[0;34m\u001b[0m\u001b[0;34m\u001b[0m\u001b[0m\n\u001b[0m",
      "\u001b[0;32m~/Library/Python/3.7/lib/python/site-packages/sklearn/tree/_classes.py\u001b[0m in \u001b[0;36mfit\u001b[0;34m(self, X, y, sample_weight, check_input, X_idx_sorted)\u001b[0m\n\u001b[1;32m    874\u001b[0m             \u001b[0msample_weight\u001b[0m\u001b[0;34m=\u001b[0m\u001b[0msample_weight\u001b[0m\u001b[0;34m,\u001b[0m\u001b[0;34m\u001b[0m\u001b[0;34m\u001b[0m\u001b[0m\n\u001b[1;32m    875\u001b[0m             \u001b[0mcheck_input\u001b[0m\u001b[0;34m=\u001b[0m\u001b[0mcheck_input\u001b[0m\u001b[0;34m,\u001b[0m\u001b[0;34m\u001b[0m\u001b[0;34m\u001b[0m\u001b[0m\n\u001b[0;32m--> 876\u001b[0;31m             X_idx_sorted=X_idx_sorted)\n\u001b[0m\u001b[1;32m    877\u001b[0m         \u001b[0;32mreturn\u001b[0m \u001b[0mself\u001b[0m\u001b[0;34m\u001b[0m\u001b[0;34m\u001b[0m\u001b[0m\n\u001b[1;32m    878\u001b[0m \u001b[0;34m\u001b[0m\u001b[0m\n",
      "\u001b[0;32m~/Library/Python/3.7/lib/python/site-packages/sklearn/tree/_classes.py\u001b[0m in \u001b[0;36mfit\u001b[0;34m(self, X, y, sample_weight, check_input, X_idx_sorted)\u001b[0m\n\u001b[1;32m    147\u001b[0m \u001b[0;34m\u001b[0m\u001b[0m\n\u001b[1;32m    148\u001b[0m         \u001b[0;32mif\u001b[0m \u001b[0mcheck_input\u001b[0m\u001b[0;34m:\u001b[0m\u001b[0;34m\u001b[0m\u001b[0;34m\u001b[0m\u001b[0m\n\u001b[0;32m--> 149\u001b[0;31m             \u001b[0mX\u001b[0m \u001b[0;34m=\u001b[0m \u001b[0mcheck_array\u001b[0m\u001b[0;34m(\u001b[0m\u001b[0mX\u001b[0m\u001b[0;34m,\u001b[0m \u001b[0mdtype\u001b[0m\u001b[0;34m=\u001b[0m\u001b[0mDTYPE\u001b[0m\u001b[0;34m,\u001b[0m \u001b[0maccept_sparse\u001b[0m\u001b[0;34m=\u001b[0m\u001b[0;34m\"csc\"\u001b[0m\u001b[0;34m)\u001b[0m\u001b[0;34m\u001b[0m\u001b[0;34m\u001b[0m\u001b[0m\n\u001b[0m\u001b[1;32m    150\u001b[0m             \u001b[0my\u001b[0m \u001b[0;34m=\u001b[0m \u001b[0mcheck_array\u001b[0m\u001b[0;34m(\u001b[0m\u001b[0my\u001b[0m\u001b[0;34m,\u001b[0m \u001b[0mensure_2d\u001b[0m\u001b[0;34m=\u001b[0m\u001b[0;32mFalse\u001b[0m\u001b[0;34m,\u001b[0m \u001b[0mdtype\u001b[0m\u001b[0;34m=\u001b[0m\u001b[0;32mNone\u001b[0m\u001b[0;34m)\u001b[0m\u001b[0;34m\u001b[0m\u001b[0;34m\u001b[0m\u001b[0m\n\u001b[1;32m    151\u001b[0m             \u001b[0;32mif\u001b[0m \u001b[0missparse\u001b[0m\u001b[0;34m(\u001b[0m\u001b[0mX\u001b[0m\u001b[0;34m)\u001b[0m\u001b[0;34m:\u001b[0m\u001b[0;34m\u001b[0m\u001b[0;34m\u001b[0m\u001b[0m\n",
      "\u001b[0;32m~/Library/Python/3.7/lib/python/site-packages/sklearn/utils/validation.py\u001b[0m in \u001b[0;36mcheck_array\u001b[0;34m(array, accept_sparse, accept_large_sparse, dtype, order, copy, force_all_finite, ensure_2d, allow_nd, ensure_min_samples, ensure_min_features, warn_on_dtype, estimator)\u001b[0m\n\u001b[1;32m    513\u001b[0m                     \u001b[0marray\u001b[0m \u001b[0;34m=\u001b[0m \u001b[0marray\u001b[0m\u001b[0;34m.\u001b[0m\u001b[0mastype\u001b[0m\u001b[0;34m(\u001b[0m\u001b[0mdtype\u001b[0m\u001b[0;34m,\u001b[0m \u001b[0mcasting\u001b[0m\u001b[0;34m=\u001b[0m\u001b[0;34m\"unsafe\"\u001b[0m\u001b[0;34m,\u001b[0m \u001b[0mcopy\u001b[0m\u001b[0;34m=\u001b[0m\u001b[0;32mFalse\u001b[0m\u001b[0;34m)\u001b[0m\u001b[0;34m\u001b[0m\u001b[0;34m\u001b[0m\u001b[0m\n\u001b[1;32m    514\u001b[0m                 \u001b[0;32melse\u001b[0m\u001b[0;34m:\u001b[0m\u001b[0;34m\u001b[0m\u001b[0;34m\u001b[0m\u001b[0m\n\u001b[0;32m--> 515\u001b[0;31m                     \u001b[0marray\u001b[0m \u001b[0;34m=\u001b[0m \u001b[0mnp\u001b[0m\u001b[0;34m.\u001b[0m\u001b[0masarray\u001b[0m\u001b[0;34m(\u001b[0m\u001b[0marray\u001b[0m\u001b[0;34m,\u001b[0m \u001b[0morder\u001b[0m\u001b[0;34m=\u001b[0m\u001b[0morder\u001b[0m\u001b[0;34m,\u001b[0m \u001b[0mdtype\u001b[0m\u001b[0;34m=\u001b[0m\u001b[0mdtype\u001b[0m\u001b[0;34m)\u001b[0m\u001b[0;34m\u001b[0m\u001b[0;34m\u001b[0m\u001b[0m\n\u001b[0m\u001b[1;32m    516\u001b[0m             \u001b[0;32mexcept\u001b[0m \u001b[0mComplexWarning\u001b[0m\u001b[0;34m:\u001b[0m\u001b[0;34m\u001b[0m\u001b[0;34m\u001b[0m\u001b[0m\n\u001b[1;32m    517\u001b[0m                 raise ValueError(\"Complex data not supported\\n\"\n",
      "\u001b[0;32m~/Library/Python/3.7/lib/python/site-packages/numpy/core/_asarray.py\u001b[0m in \u001b[0;36masarray\u001b[0;34m(a, dtype, order)\u001b[0m\n\u001b[1;32m     83\u001b[0m \u001b[0;34m\u001b[0m\u001b[0m\n\u001b[1;32m     84\u001b[0m     \"\"\"\n\u001b[0;32m---> 85\u001b[0;31m     \u001b[0;32mreturn\u001b[0m \u001b[0marray\u001b[0m\u001b[0;34m(\u001b[0m\u001b[0ma\u001b[0m\u001b[0;34m,\u001b[0m \u001b[0mdtype\u001b[0m\u001b[0;34m,\u001b[0m \u001b[0mcopy\u001b[0m\u001b[0;34m=\u001b[0m\u001b[0;32mFalse\u001b[0m\u001b[0;34m,\u001b[0m \u001b[0morder\u001b[0m\u001b[0;34m=\u001b[0m\u001b[0morder\u001b[0m\u001b[0;34m)\u001b[0m\u001b[0;34m\u001b[0m\u001b[0;34m\u001b[0m\u001b[0m\n\u001b[0m\u001b[1;32m     86\u001b[0m \u001b[0;34m\u001b[0m\u001b[0m\n\u001b[1;32m     87\u001b[0m \u001b[0;34m\u001b[0m\u001b[0m\n",
      "\u001b[0;31mValueError\u001b[0m: could not convert string to float: 'the'"
     ]
    }
   ],
   "source": [
    "from sklearn.tree import DecisionTreeClassifier\n",
    "features=newdata\n",
    "lables=Top_data[\"Labels\"]\n",
    "print(lables)\n",
    "desclf=DecisionTreeClassifier()\n",
    "traineddec=desclf.fit(features,lables)"
   ]
  },
  {
   "cell_type": "code",
   "execution_count": null,
   "metadata": {},
   "outputs": [],
   "source": []
  }
 ],
 "metadata": {
  "kernelspec": {
   "display_name": "Python 3",
   "language": "python",
   "name": "python3"
  },
  "language_info": {
   "codemirror_mode": {
    "name": "ipython",
    "version": 3
   },
   "file_extension": ".py",
   "mimetype": "text/x-python",
   "name": "python",
   "nbconvert_exporter": "python",
   "pygments_lexer": "ipython3",
   "version": "3.7.4"
  }
 },
 "nbformat": 4,
 "nbformat_minor": 2
}
