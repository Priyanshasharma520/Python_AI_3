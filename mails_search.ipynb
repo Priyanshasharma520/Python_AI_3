{
 "cells": [
  {
   "cell_type": "code",
   "execution_count": 177,
   "metadata": {},
   "outputs": [],
   "source": [
    "import email\n",
    "import imaplib\n",
    "from  bs4  import BeautifulSoup"
   ]
  },
  {
   "cell_type": "code",
   "execution_count": 178,
   "metadata": {},
   "outputs": [],
   "source": [
    "user=\"\"\n",
    "password=\"\"\n",
    "imap_url = 'imap.gmail.com'"
   ]
  },
  {
   "cell_type": "code",
   "execution_count": 179,
   "metadata": {},
   "outputs": [],
   "source": [
    "con = imaplib.IMAP4_SSL(imap_url)"
   ]
  },
  {
   "cell_type": "code",
   "execution_count": 180,
   "metadata": {},
   "outputs": [
    {
     "data": {
      "text/plain": [
       "('OK', [b'er.21priyansha@gmail.com authenticated (Success)'])"
      ]
     },
     "execution_count": 180,
     "metadata": {},
     "output_type": "execute_result"
    }
   ],
   "source": [
    "con.login(user,password)"
   ]
  },
  {
   "cell_type": "code",
   "execution_count": 181,
   "metadata": {},
   "outputs": [
    {
     "data": {
      "text/plain": [
       "('OK', [b'22572'])"
      ]
     },
     "execution_count": 181,
     "metadata": {},
     "output_type": "execute_result"
    }
   ],
   "source": [
    "con.select('Inbox')  "
   ]
  },
  {
   "cell_type": "code",
   "execution_count": 182,
   "metadata": {},
   "outputs": [
    {
     "name": "stdout",
     "output_type": "stream",
     "text": [
      "OK\n"
     ]
    }
   ],
   "source": [
    "result, data_1 = con.fetch(b\"10\", '(RFC822)') \n",
    "#print(data)\n",
    "print(result)"
   ]
  },
  {
   "cell_type": "code",
   "execution_count": 183,
   "metadata": {},
   "outputs": [],
   "source": [
    "def search(Key,value,con):\n",
    "    result,data=con.search(None,Key,\"'{}'\".format(value))\n",
    "    print(result)\n",
    "    return data"
   ]
  },
  {
   "cell_type": "code",
   "execution_count": 184,
   "metadata": {},
   "outputs": [],
   "source": [
    "def get_emails(result_bytes):\n",
    "    msg=[]\n",
    "    for num in result_bytes[0].split():\n",
    "        typ,data=con.fetch(num,'RFC822')\n",
    "        msg.append(data)\n",
    "        return msg"
   ]
  },
  {
   "cell_type": "code",
   "execution_count": 185,
   "metadata": {},
   "outputs": [],
   "source": [
    "# Function to get email content part i.e its body part \n",
    "def get_body(msg): \n",
    "    if msg.is_multipart(): \n",
    "        return get_body(msg.get_payload(0)) \n",
    "    else: \n",
    "        return msg.get_payload(None, True) \n",
    "    "
   ]
  },
  {
   "cell_type": "code",
   "execution_count": 186,
   "metadata": {},
   "outputs": [],
   "source": [
    "raw= email.message_from_bytes(data[0][1])\n",
    "#dir(con)"
   ]
  },
  {
   "cell_type": "code",
   "execution_count": 187,
   "metadata": {},
   "outputs": [
    {
     "name": "stdout",
     "output_type": "stream",
     "text": [
      "b'Top Stories from Your Feed\\r\\nYour Quora Digest\\r\\n\\r\\n-----\\r\\n\\r\\n\\r\\nQuestion: What are some ingenious questions you have been asked in a technical interview?\\r\\n\\r\\nAnswer from Yasser R Shaikh\\r\\nI remember in one of the interview I had given as a fresher... I was asked to write an algo to \\r\\n\\r\\nCalculate angle between the minute and the hour hand of a clock.\\r\\n\\r\\nBeing a fresher, I was not that bad with algorithms and logic so I was able to write down the algo very quickly. The interviewer picked up the paper on which I had written the algo and gave a smile. \\r\\n\\r\\nHe then asked me to dry run the algo\\r\\nRead More: http://www.quora.com/What-are-some-ingenious-questions-you-have-been-asked-in-a-technical-interview#ans5811584\\r\\n-----\\r\\nQuestion: I am planning to quit my job and study algorithms full-time for one year. Can anyone give me some advice?\\r\\n\\r\\nAnswer from Sunling Yang\\r\\nHey I actually quit my job 2 months ago, studied full-time and am now working at Google so it can be done! \\r\\n\\r\\nMy situation so you can gauge how much it applies to you: I was working at a startup as a software engineer with really long hours and quit for the same reason: wanted to leave and needed time to interview. I had a CS master\\'s and before that I was in Physics, so I spent a month drilling CS\\r\\nRead More: http://www.quora.com/I-am-planning-to-quit-my-job-and-study-algorithms-full-time-for-one-year-Can-anyone-give-me-some-advice#ans8457701\\r\\n-----\\r\\nQuestion: What are the best formats you have seen for a resume?\\r\\n\\r\\nAnswer from Gayle Laakmann McDowell\\r\\nJust as the best product is the one that gets the job done, the best resumes are those that communicate your skills and accomplishments in a clear, effective way. \\r\\n\\r\\nGraphical resumes are, in particular, terrible. Unless you can be one of the lucky few to get a bunch of media attention for a nifty format, you will hurt yourself far more than you\\'ll help yourself if you use a graphical resume. Graph\\r\\nRead More: http://www.quora.com/What-are-the-best-formats-you-have-seen-for-a-resume#ans2018156\\r\\n-----\\r\\nQuestion: What is the best answer to \"why should this company hire you\"?\\r\\n\\r\\nAnswer from Ravi Pimprankar\\r\\nThis is the type of question which has no specific answers. Just follow your instincts and you will come up with an answer. If you don\\'t, you don\\'t deserve that job!\\r\\nLet me share a story.\\r\\nA person once went for an interview in a very reputed company. While entering the room, he slipped and fell on the ground. Humiliated, one might think. Documents scattered all over the place. What would you do if\\r\\nRead More: http://www.quora.com/What-is-the-best-answer-to-why-should-this-company-hire-you#ans8106333\\r\\n-----\\r\\nQuestion: What is the best source to learn HTML?\\r\\n\\r\\nAnswer from Anshul Roy\\r\\nAccording to me HTML and CSS are very easy to learn. But, it might seem intimidating in the beginning. I would suggest you to follow these steps -\\r\\n\\r\\nStep 1:\\r\\nStart learning HTML, JavaScript/jQuery and CSS from http://www.codecademy.com. It\\'s the best site for learning how to code. You\\'ll enjoy this step very much.\\r\\n\\r\\nStep 2:\\r\\nNow, if you have followed Step 1 correctly, you should have become a semi-pro\\r\\nRead More: http://www.quora.com/What-is-the-best-source-to-learn-HTML#ans5164349\\r\\n-----\\r\\nQuestion: What are the weirdest things flight attendants have seen in their line of duty?\\r\\n\\r\\nAnswer from Manav Saraf\\r\\nBritish Airways flight from New York to London in 2002.\\r\\n\\r\\nThe flight was almost empty, so everyone had 3 seats to themselves for lying down or whatever. Suddenly there is smell of smoke in the cabin - turns out a drunk passenger was lying down trying to smoke, covering himself with 4-5 blankets in a failed attempt to mask the smell of smoke. When he was discovered, he tried to stub out the cigarett\\r\\nRead More: http://www.quora.com/Flight-Attendants/What-are-the-weirdest-things-flight-attendants-have-seen-in-their-line-of-duty#ans8761317\\r\\n-----\\r\\nQuestion: What is the best WhatsApp status you have ever read?\\r\\n\\r\\nAnswer from Tanmay Nema\\r\\nI came across this one today itself:\\r\\n\"Study economics-when you\\'re unemployed, at least you\\'ll know why.\"\\r\\n\\r\\nEdit:\\r\\nI am glad that everyone liked this answer, thank you.\\r\\nThis answer brought me my first 100+. The next morning I woke up and was greeted by 500+ and today it became 1000+. I am really excited. :-D\\r\\nI know I should have done this before, sorry for being late, but thanks Amrita [ http://www.q\\r\\nRead More: http://www.quora.com/What-is-the-best-WhatsApp-status-you-have-ever-read#ans8632661\\r\\n-----\\r\\nQuestion: What are the hackathons taking place in the Bay Area during 2012-2014?\\r\\n\\r\\nAnswer from Phil Wee\\r\\nUpcoming hackathons:\\r\\n1) FLIR ONE Developer & Hacker Party\\r\\n HackerDojo (599 Fairchild Dr, Mountain View, CA 94043)\\r\\n Friday, December 12, 2014 at 4:00 PM - Monday, December 15, 2014 at 12:00 PM\\r\\nhttp://www.eventbrite.com/e/flir-one-developer-hacker-party-tickets-14596401229\\r\\n\\r\\n2) AT&T Mobile App Hackathon Bay Area - Public Safety\\r\\n Palo Alto, CA\\r\\n Friday, December 12, 2014 at 6:00 PM - Saturday, December\\r\\nRead More: http://www.quora.com/What-are-the-hackathons-taking-place-in-the-Bay-Area-during-2012-2014#ans1321979\\r\\n-----\\r\\nQuestion: How do I get a call & crack Tech Giants like Amazon, Microsoft.?\\r\\n\\r\\nAnswer from Ayon Ghosh\\r\\nYou are on the right track, my friend. Trust me, I have been through the same phase, it will take great patience but if you work hard enough you will finally make it with multiple offers.\\r\\n\\r\\nA few suggestions: create an online presence, contribute to some open source project or start one of your own, include these prominently in your resume. Be prolific, instead of only solving interview questions (\\r\\nRead More: http://www.quora.com/How-do-I-get-a-call-crack-Tech-Giants-like-Amazon-Microsoft#ans6212052\\r\\n-----\\r\\nQuestion: How can I prepare for interviews in any big software company like Google, Facebook, Amazon, Microsoft, DE Shaw, Salesforce, Flipkart, Expedia, Morgan Stanley, Goldman Sachs, Adobe, eBay, Walmart, LinkedIn etc.?\\r\\n\\r\\nAnswer from Vijay Rajan\\r\\nAll the websites given below are great. Even at 50, it is always good to challenge yourself and write some code for some algorithm or programming puzzle just to state nimble. Code because you like to and not because you want to prove to some jackass that you are worthy of a job.\\r\\n\\r\\nThe amount that some of the younger folks ask senior folks irrelevant programming puzzles, it is impossible to get into\\r\\nRead More: http://www.quora.com/How-can-I-prepare-for-interviews-in-any-big-software-company-like-Google-Facebook-Amazon-Microsoft-DE-Shaw-Salesforce-Flipkart-Expedia-Morgan-Stanley-Goldman-Sachs-Adobe-eBay-Walmart-LinkedIn-etc#ans8152925\\r\\n-----\\r\\n'\n"
     ]
    }
   ],
   "source": [
    "p=get_body(raw)\n",
    "print(p)"
   ]
  },
  {
   "cell_type": "code",
   "execution_count": 188,
   "metadata": {},
   "outputs": [
    {
     "name": "stdout",
     "output_type": "stream",
     "text": [
      "<html><head></head><body>Top Stories from Your Feed\n",
      "Your Quora Digest\n",
      "\n",
      "-----\n",
      "\n",
      "\n",
      "Question: What are some ingenious questions you have been asked in a technical interview?\n",
      "\n",
      "Answer from Yasser R Shaikh\n",
      "I remember in one of the interview I had given as a fresher... I was asked to write an algo to \n",
      "\n",
      "Calculate angle between the minute and the hour hand of a clock.\n",
      "\n",
      "Being a fresher, I was not that bad with algorithms and logic so I was able to write down the algo very quickly. The interviewer picked up the paper on which I had written the algo and gave a smile. \n",
      "\n",
      "He then asked me to dry run the algo\n",
      "Read More: http://www.quora.com/What-are-some-ingenious-questions-you-have-been-asked-in-a-technical-interview#ans5811584\n",
      "-----\n",
      "Question: I am planning to quit my job and study algorithms full-time for one year. Can anyone give me some advice?\n",
      "\n",
      "Answer from Sunling Yang\n",
      "Hey I actually quit my job 2 months ago, studied full-time and am now working at Google so it can be done! \n",
      "\n",
      "My situation so you can gauge how much it applies to you: I was working at a startup as a software engineer with really long hours and quit for the same reason: wanted to leave and needed time to interview. I had a CS master's and before that I was in Physics, so I spent a month drilling CS\n",
      "Read More: http://www.quora.com/I-am-planning-to-quit-my-job-and-study-algorithms-full-time-for-one-year-Can-anyone-give-me-some-advice#ans8457701\n",
      "-----\n",
      "Question: What are the best formats you have seen for a resume?\n",
      "\n",
      "Answer from Gayle Laakmann McDowell\n",
      "Just as the best product is the one that gets the job done, the best resumes are those that communicate your skills and accomplishments in a clear, effective way. \n",
      "\n",
      "Graphical resumes are, in particular, terrible. Unless you can be one of the lucky few to get a bunch of media attention for a nifty format, you will hurt yourself far more than you'll help yourself if you use a graphical resume. Graph\n",
      "Read More: http://www.quora.com/What-are-the-best-formats-you-have-seen-for-a-resume#ans2018156\n",
      "-----\n",
      "Question: What is the best answer to \"why should this company hire you\"?\n",
      "\n",
      "Answer from Ravi Pimprankar\n",
      "This is the type of question which has no specific answers. Just follow your instincts and you will come up with an answer. If you don't, you don't deserve that job!\n",
      "Let me share a story.\n",
      "A person once went for an interview in a very reputed company. While entering the room, he slipped and fell on the ground. Humiliated, one might think. Documents scattered all over the place. What would you do if\n",
      "Read More: http://www.quora.com/What-is-the-best-answer-to-why-should-this-company-hire-you#ans8106333\n",
      "-----\n",
      "Question: What is the best source to learn HTML?\n",
      "\n",
      "Answer from Anshul Roy\n",
      "According to me HTML and CSS are very easy to learn. But, it might seem intimidating in the beginning. I would suggest you to follow these steps -\n",
      "\n",
      "Step 1:\n",
      "Start learning HTML, JavaScript/jQuery and CSS from http://www.codecademy.com. It's the best site for learning how to code. You'll enjoy this step very much.\n",
      "\n",
      "Step 2:\n",
      "Now, if you have followed Step 1 correctly, you should have become a semi-pro\n",
      "Read More: http://www.quora.com/What-is-the-best-source-to-learn-HTML#ans5164349\n",
      "-----\n",
      "Question: What are the weirdest things flight attendants have seen in their line of duty?\n",
      "\n",
      "Answer from Manav Saraf\n",
      "British Airways flight from New York to London in 2002.\n",
      "\n",
      "The flight was almost empty, so everyone had 3 seats to themselves for lying down or whatever. Suddenly there is smell of smoke in the cabin - turns out a drunk passenger was lying down trying to smoke, covering himself with 4-5 blankets in a failed attempt to mask the smell of smoke. When he was discovered, he tried to stub out the cigarett\n",
      "Read More: http://www.quora.com/Flight-Attendants/What-are-the-weirdest-things-flight-attendants-have-seen-in-their-line-of-duty#ans8761317\n",
      "-----\n",
      "Question: What is the best WhatsApp status you have ever read?\n",
      "\n",
      "Answer from Tanmay Nema\n",
      "I came across this one today itself:\n",
      "\"Study economics-when you're unemployed, at least you'll know why.\"\n",
      "\n",
      "Edit:\n",
      "I am glad that everyone liked this answer, thank you.\n",
      "This answer brought me my first 100+. The next morning I woke up and was greeted by 500+ and today it became 1000+. I am really excited. :-D\n",
      "I know I should have done this before, sorry for being late, but thanks Amrita [ http://www.q\n",
      "Read More: http://www.quora.com/What-is-the-best-WhatsApp-status-you-have-ever-read#ans8632661\n",
      "-----\n",
      "Question: What are the hackathons taking place in the Bay Area during 2012-2014?\n",
      "\n",
      "Answer from Phil Wee\n",
      "Upcoming hackathons:\n",
      "1) FLIR ONE Developer &amp; Hacker Party\n",
      " HackerDojo (599 Fairchild Dr, Mountain View, CA 94043)\n",
      " Friday, December 12, 2014 at 4:00 PM - Monday, December 15, 2014 at 12:00 PM\n",
      "http://www.eventbrite.com/e/flir-one-developer-hacker-party-tickets-14596401229\n",
      "\n",
      "2) AT&amp;T Mobile App Hackathon Bay Area - Public Safety\n",
      " Palo Alto, CA\n",
      " Friday, December 12, 2014 at 6:00 PM - Saturday, December\n",
      "Read More: http://www.quora.com/What-are-the-hackathons-taking-place-in-the-Bay-Area-during-2012-2014#ans1321979\n",
      "-----\n",
      "Question: How do I get a call &amp; crack Tech Giants like Amazon, Microsoft.?\n",
      "\n",
      "Answer from Ayon Ghosh\n",
      "You are on the right track, my friend. Trust me, I have been through the same phase, it will take great patience but if you work hard enough you will finally make it with multiple offers.\n",
      "\n",
      "A few suggestions: create an online presence, contribute to some open source project or start one of your own, include these prominently in your resume. Be prolific, instead of only solving interview questions (\n",
      "Read More: http://www.quora.com/How-do-I-get-a-call-crack-Tech-Giants-like-Amazon-Microsoft#ans6212052\n",
      "-----\n",
      "Question: How can I prepare for interviews in any big software company like Google, Facebook, Amazon, Microsoft, DE Shaw, Salesforce, Flipkart, Expedia, Morgan Stanley, Goldman Sachs, Adobe, eBay, Walmart, LinkedIn etc.?\n",
      "\n",
      "Answer from Vijay Rajan\n",
      "All the websites given below are great. Even at 50, it is always good to challenge yourself and write some code for some algorithm or programming puzzle just to state nimble. Code because you like to and not because you want to prove to some jackass that you are worthy of a job.\n",
      "\n",
      "The amount that some of the younger folks ask senior folks irrelevant programming puzzles, it is impossible to get into\n",
      "Read More: http://www.quora.com/How-can-I-prepare-for-interviews-in-any-big-software-company-like-Google-Facebook-Amazon-Microsoft-DE-Shaw-Salesforce-Flipkart-Expedia-Morgan-Stanley-Goldman-Sachs-Adobe-eBay-Walmart-LinkedIn-etc#ans8152925\n",
      "-----\n",
      "</body></html>\n"
     ]
    }
   ],
   "source": [
    "souped=BeautifulSoup(p,'html5lib')\n",
    "print(souped)"
   ]
  },
  {
   "cell_type": "code",
   "execution_count": 189,
   "metadata": {},
   "outputs": [
    {
     "name": "stdout",
     "output_type": "stream",
     "text": [
      "OK\n"
     ]
    },
    {
     "data": {
      "text/plain": [
       "1"
      ]
     },
     "execution_count": 189,
     "metadata": {},
     "output_type": "execute_result"
    }
   ],
   "source": [
    "s=search(\"FROM\",\"Myntra\",con)\n",
    "len(s)"
   ]
  },
  {
   "cell_type": "code",
   "execution_count": 190,
   "metadata": {},
   "outputs": [
    {
     "data": {
      "text/plain": [
       "1"
      ]
     },
     "execution_count": 190,
     "metadata": {},
     "output_type": "execute_result"
    }
   ],
   "source": [
    "msgs=get_emails(s)\n",
    "len(msgs)"
   ]
  },
  {
   "cell_type": "code",
   "execution_count": 192,
   "metadata": {},
   "outputs": [
    {
     "ename": "AttributeError",
     "evalue": "'tuple' object has no attribute 'decode'",
     "output_type": "error",
     "traceback": [
      "\u001b[0;31m---------------------------------------------------------------------------\u001b[0m",
      "\u001b[0;31mAttributeError\u001b[0m                            Traceback (most recent call last)",
      "\u001b[0;32m<ipython-input-192-8033ca835eea>\u001b[0m in \u001b[0;36m<module>\u001b[0;34m\u001b[0m\n\u001b[1;32m      1\u001b[0m \u001b[0;32mfor\u001b[0m \u001b[0mmes\u001b[0m \u001b[0;32min\u001b[0m \u001b[0mmsgs\u001b[0m\u001b[0;34m:\u001b[0m\u001b[0;34m\u001b[0m\u001b[0;34m\u001b[0m\u001b[0m\n\u001b[0;32m----> 2\u001b[0;31m     \u001b[0ma\u001b[0m\u001b[0;34m=\u001b[0m\u001b[0;34m(\u001b[0m\u001b[0mget_body\u001b[0m\u001b[0;34m(\u001b[0m\u001b[0memail\u001b[0m\u001b[0;34m.\u001b[0m\u001b[0mmessage_from_bytes\u001b[0m\u001b[0;34m(\u001b[0m\u001b[0mmes\u001b[0m\u001b[0;34m[\u001b[0m\u001b[0;36m0\u001b[0m\u001b[0;34m]\u001b[0m\u001b[0;34m)\u001b[0m\u001b[0;34m)\u001b[0m\u001b[0;34m)\u001b[0m\u001b[0;34m\u001b[0m\u001b[0;34m\u001b[0m\u001b[0m\n\u001b[0m\u001b[1;32m      3\u001b[0m     \u001b[0msouped\u001b[0m\u001b[0;34m=\u001b[0m\u001b[0mBeautifulSoup\u001b[0m\u001b[0;34m(\u001b[0m\u001b[0ma\u001b[0m\u001b[0;34m,\u001b[0m\u001b[0;34m'html5lib'\u001b[0m\u001b[0;34m)\u001b[0m\u001b[0;34m\u001b[0m\u001b[0;34m\u001b[0m\u001b[0m\n\u001b[1;32m      4\u001b[0m     \u001b[0mprint\u001b[0m\u001b[0;34m(\u001b[0m\u001b[0msouped\u001b[0m\u001b[0;34m)\u001b[0m\u001b[0;34m\u001b[0m\u001b[0;34m\u001b[0m\u001b[0m\n",
      "\u001b[0;32m/Library/Frameworks/Python.framework/Versions/3.7/lib/python3.7/email/__init__.py\u001b[0m in \u001b[0;36mmessage_from_bytes\u001b[0;34m(s, *args, **kws)\u001b[0m\n\u001b[1;32m     44\u001b[0m     \"\"\"\n\u001b[1;32m     45\u001b[0m     \u001b[0;32mfrom\u001b[0m \u001b[0memail\u001b[0m\u001b[0;34m.\u001b[0m\u001b[0mparser\u001b[0m \u001b[0;32mimport\u001b[0m \u001b[0mBytesParser\u001b[0m\u001b[0;34m\u001b[0m\u001b[0;34m\u001b[0m\u001b[0m\n\u001b[0;32m---> 46\u001b[0;31m     \u001b[0;32mreturn\u001b[0m \u001b[0mBytesParser\u001b[0m\u001b[0;34m(\u001b[0m\u001b[0;34m*\u001b[0m\u001b[0margs\u001b[0m\u001b[0;34m,\u001b[0m \u001b[0;34m**\u001b[0m\u001b[0mkws\u001b[0m\u001b[0;34m)\u001b[0m\u001b[0;34m.\u001b[0m\u001b[0mparsebytes\u001b[0m\u001b[0;34m(\u001b[0m\u001b[0ms\u001b[0m\u001b[0;34m)\u001b[0m\u001b[0;34m\u001b[0m\u001b[0;34m\u001b[0m\u001b[0m\n\u001b[0m\u001b[1;32m     47\u001b[0m \u001b[0;34m\u001b[0m\u001b[0m\n\u001b[1;32m     48\u001b[0m \u001b[0;32mdef\u001b[0m \u001b[0mmessage_from_file\u001b[0m\u001b[0;34m(\u001b[0m\u001b[0mfp\u001b[0m\u001b[0;34m,\u001b[0m \u001b[0;34m*\u001b[0m\u001b[0margs\u001b[0m\u001b[0;34m,\u001b[0m \u001b[0;34m**\u001b[0m\u001b[0mkws\u001b[0m\u001b[0;34m)\u001b[0m\u001b[0;34m:\u001b[0m\u001b[0;34m\u001b[0m\u001b[0;34m\u001b[0m\u001b[0m\n",
      "\u001b[0;32m/Library/Frameworks/Python.framework/Versions/3.7/lib/python3.7/email/parser.py\u001b[0m in \u001b[0;36mparsebytes\u001b[0;34m(self, text, headersonly)\u001b[0m\n\u001b[1;32m    121\u001b[0m         \u001b[0mthe\u001b[0m \u001b[0mfile\u001b[0m\u001b[0;34m.\u001b[0m\u001b[0;34m\u001b[0m\u001b[0;34m\u001b[0m\u001b[0m\n\u001b[1;32m    122\u001b[0m         \"\"\"\n\u001b[0;32m--> 123\u001b[0;31m         \u001b[0mtext\u001b[0m \u001b[0;34m=\u001b[0m \u001b[0mtext\u001b[0m\u001b[0;34m.\u001b[0m\u001b[0mdecode\u001b[0m\u001b[0;34m(\u001b[0m\u001b[0;34m'ASCII'\u001b[0m\u001b[0;34m,\u001b[0m \u001b[0merrors\u001b[0m\u001b[0;34m=\u001b[0m\u001b[0;34m'surrogateescape'\u001b[0m\u001b[0;34m)\u001b[0m\u001b[0;34m\u001b[0m\u001b[0;34m\u001b[0m\u001b[0m\n\u001b[0m\u001b[1;32m    124\u001b[0m         \u001b[0;32mreturn\u001b[0m \u001b[0mself\u001b[0m\u001b[0;34m.\u001b[0m\u001b[0mparser\u001b[0m\u001b[0;34m.\u001b[0m\u001b[0mparsestr\u001b[0m\u001b[0;34m(\u001b[0m\u001b[0mtext\u001b[0m\u001b[0;34m,\u001b[0m \u001b[0mheadersonly\u001b[0m\u001b[0;34m)\u001b[0m\u001b[0;34m\u001b[0m\u001b[0;34m\u001b[0m\u001b[0m\n\u001b[1;32m    125\u001b[0m \u001b[0;34m\u001b[0m\u001b[0m\n",
      "\u001b[0;31mAttributeError\u001b[0m: 'tuple' object has no attribute 'decode'"
     ]
    }
   ],
   "source": [
    "for mes in msgs:\n",
    "    a=(get_body(email.message_from_bytes(mes[0][1])))\n",
    "    souped=BeautifulSoup(a,'html5lib')\n",
    "    print(souped)"
   ]
  },
  {
   "cell_type": "code",
   "execution_count": null,
   "metadata": {},
   "outputs": [],
   "source": []
  }
 ],
 "metadata": {
  "kernelspec": {
   "display_name": "Python 3",
   "language": "python",
   "name": "python3"
  },
  "language_info": {
   "codemirror_mode": {
    "name": "ipython",
    "version": 3
   },
   "file_extension": ".py",
   "mimetype": "text/x-python",
   "name": "python",
   "nbconvert_exporter": "python",
   "pygments_lexer": "ipython3",
   "version": "3.7.4"
  }
 },
 "nbformat": 4,
 "nbformat_minor": 2
}
